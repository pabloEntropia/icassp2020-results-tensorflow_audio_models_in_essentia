{
 "cells": [
  {
   "cell_type": "code",
   "execution_count": 1,
   "metadata": {},
   "outputs": [],
   "source": [
    "import yaml\n",
    "import json \n",
    "import collections"
   ]
  },
  {
   "cell_type": "code",
   "execution_count": 2,
   "metadata": {},
   "outputs": [],
   "source": [
    "def flatten_tree(elem, path, branches):\n",
    "    \"\"\"Flatten nested lists/dictionaries into lists of strings\n",
    "    (branches).\n",
    "    \"\"\"\n",
    "    if not path:\n",
    "        path = []\n",
    "\n",
    "    if isinstance(elem, dict):\n",
    "        for (k, v) in elem.items():\n",
    "            flatten_tree(v, path + [k], branches)\n",
    "    elif isinstance(elem, list):\n",
    "        for sub in elem:\n",
    "            flatten_tree(sub, path, branches)\n",
    "    else:\n",
    "        branches.append(path + [str(elem)])\n",
    "\n",
    "def load_genre_taxonomy(taxonomy_file):\n",
    "    import yaml\n",
    "    genres_tree = yaml.load(open(taxonomy_file, 'r'))\n",
    "    genres = []\n",
    "    flatten_tree(genres_tree, [], genres)\n",
    "    \n",
    "    # Build a genre dictionary from the genre parent list.\n",
    "    # This is {'subgenre': parent, 'subsubgenre': parent}\n",
    "    genre_d = {}\n",
    "    for g in genres:\n",
    "        d = collections.deque(reversed(g))\n",
    "        while True:\n",
    "            try:\n",
    "                g = d.popleft()\n",
    "                r = list(d)\n",
    "                if not r:\n",
    "                    r = [g]\n",
    "                genre_d[g] = r[-1]\n",
    "            except IndexError:\n",
    "                break\n",
    "    return genre_d"
   ]
  },
  {
   "cell_type": "code",
   "execution_count": 3,
   "metadata": {},
   "outputs": [],
   "source": [
    "genres_file = 'jamendo-genres-original.json'\n",
    "\n",
    "original_genres = json.load(open(genres_file))\n",
    "taxonomy = load_genre_taxonomy(\"jamendo-beets-genres-tree.yaml\")"
   ]
  },
  {
   "cell_type": "code",
   "execution_count": 4,
   "metadata": {},
   "outputs": [],
   "source": [
    "data = dict() \n",
    "\n",
    "for idx, tags in original_genres.items():\n",
    "    vals = [[taxonomy[tag], '100']\n",
    "             for tag in tags if tag in taxonomy.keys()]\n",
    "    if vals:\n",
    "        data[idx] = vals\n",
    "\n",
    "\n",
    "json.dump(data, open('jamendo-genres-clean.json', 'w'))"
   ]
  },
  {
   "cell_type": "code",
   "execution_count": 5,
   "metadata": {
    "scrolled": true
   },
   "outputs": [
    {
     "name": "stdout",
     "output_type": "stream",
     "text": [
      "####################\n",
      "source\n",
      "['classical']\n",
      "target\n",
      "[['classical', '100']]\n",
      "####################\n",
      "source\n",
      "['soundtrack', 'electronic', 'electropop', 'ambient']\n",
      "target\n",
      "[['electronic', '100'], ['electronic', '100'], ['electronic', '100']]\n",
      "####################\n",
      "source\n",
      "['electronic', 'instrumentalpop']\n",
      "target\n",
      "[['electronic', '100']]\n",
      "####################\n",
      "source\n",
      "['soundtrack', 'electronic', 'easylistening', 'ambient']\n",
      "target\n",
      "[['electronic', '100'], ['easy listening', '100'], ['electronic', '100']]\n",
      "####################\n",
      "source\n",
      "['electronic', 'ambient']\n",
      "target\n",
      "[['electronic', '100'], ['electronic', '100']]\n",
      "####################\n",
      "source\n",
      "['pop']\n",
      "target\n",
      "[['pop', '100']]\n",
      "####################\n",
      "source\n",
      "['pop', 'rock', 'poprock']\n",
      "target\n",
      "[['pop', '100'], ['rock', '100'], ['rock', '100']]\n",
      "####################\n",
      "source\n",
      "['atmospheric', 'choir', 'darkambient']\n",
      "target\n",
      "[['electronic', '100']]\n",
      "####################\n",
      "source\n",
      "['electronic', 'lounge', 'ambient']\n",
      "target\n",
      "[['electronic', '100'], ['electronic', '100']]\n",
      "####################\n",
      "source\n",
      "['soundtrack', 'electronic', 'techno', 'ambient']\n",
      "target\n",
      "[['electronic', '100'], ['electronic', '100'], ['electronic', '100']]\n"
     ]
    }
   ],
   "source": [
    "import numpy as np\n",
    "idxs = list(data.keys())\n",
    "for i in np.random.randint(0, len(idxs), 10):\n",
    "    print('#'*20)\n",
    "    print('source')\n",
    "    print(original_genres[idxs[i]])\n",
    "    \n",
    "    print('target')\n",
    "    print(data[idxs[i]])\n",
    "    \n",
    "    "
   ]
  },
  {
   "cell_type": "code",
   "execution_count": null,
   "metadata": {},
   "outputs": [],
   "source": []
  }
 ],
 "metadata": {
  "kernelspec": {
   "display_name": "Python 3",
   "language": "python",
   "name": "python3"
  },
  "language_info": {
   "codemirror_mode": {
    "name": "ipython",
    "version": 3
   },
   "file_extension": ".py",
   "mimetype": "text/x-python",
   "name": "python",
   "nbconvert_exporter": "python",
   "pygments_lexer": "ipython3",
   "version": "3.6.9"
  }
 },
 "nbformat": 4,
 "nbformat_minor": 2
}
